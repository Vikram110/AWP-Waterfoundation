{
 "cells": [
  {
   "cell_type": "code",
   "execution_count": 1,
   "id": "c6cfba9e-6a25-4378-b33f-37e825e0d2d4",
   "metadata": {},
   "outputs": [],
   "source": [
    "import numpy as np\n",
    "import pandas as pd"
   ]
  },
  {
   "cell_type": "code",
   "execution_count": 2,
   "id": "5c7c4c7a-7ce5-4a9f-af62-42781e2b9750",
   "metadata": {},
   "outputs": [],
   "source": [
    "import matplotlib.pyplot as plt\n",
    "import seaborn as sns"
   ]
  },
  {
   "cell_type": "code",
   "execution_count": 3,
   "id": "51129974-83dd-4a6a-8c8e-49e141548a27",
   "metadata": {},
   "outputs": [],
   "source": [
    "ListOfTalukas = pd.read_csv(\"ListOfTalukas.csv\")\n",
    "MarkingSystem = pd.read_csv(\"MarkingSystem.csv\")\n",
    "StateLevelWinners = pd.read_csv(\"StateLevelWinners.csv\")\n",
    "wc= pd.read_csv(\"wc.csv\")\n",
    "\n",
    "\n"
   ]
  },
  {
   "cell_type": "code",
   "execution_count": 4,
   "id": "4f080340-b831-49ad-b3fc-4a97544391e4",
   "metadata": {},
   "outputs": [
    {
     "data": {
      "text/html": [
       "<div>\n",
       "<style scoped>\n",
       "    .dataframe tbody tr th:only-of-type {\n",
       "        vertical-align: middle;\n",
       "    }\n",
       "\n",
       "    .dataframe tbody tr th {\n",
       "        vertical-align: top;\n",
       "    }\n",
       "\n",
       "    .dataframe thead th {\n",
       "        text-align: right;\n",
       "    }\n",
       "</style>\n",
       "<table border=\"1\" class=\"dataframe\">\n",
       "  <thead>\n",
       "    <tr style=\"text-align: right;\">\n",
       "      <th></th>\n",
       "      <th>Unnamed: 0</th>\n",
       "      <th>Region</th>\n",
       "      <th>District</th>\n",
       "      <th>Taluka</th>\n",
       "      <th>Year</th>\n",
       "    </tr>\n",
       "  </thead>\n",
       "  <tbody>\n",
       "    <tr>\n",
       "      <th>0</th>\n",
       "      <td>0</td>\n",
       "      <td>Marathwada</td>\n",
       "      <td>Aurangabad</td>\n",
       "      <td>Khultabad</td>\n",
       "      <td>2017</td>\n",
       "    </tr>\n",
       "    <tr>\n",
       "      <th>1</th>\n",
       "      <td>1</td>\n",
       "      <td>Marathwada</td>\n",
       "      <td>Aurangabad</td>\n",
       "      <td>Khultabad</td>\n",
       "      <td>2018</td>\n",
       "    </tr>\n",
       "    <tr>\n",
       "      <th>2</th>\n",
       "      <td>2</td>\n",
       "      <td>Marathwada</td>\n",
       "      <td>Aurangabad</td>\n",
       "      <td>Khultabad</td>\n",
       "      <td>2019</td>\n",
       "    </tr>\n",
       "    <tr>\n",
       "      <th>3</th>\n",
       "      <td>3</td>\n",
       "      <td>Marathwada</td>\n",
       "      <td>Aurangabad</td>\n",
       "      <td>Phulambri</td>\n",
       "      <td>2017</td>\n",
       "    </tr>\n",
       "    <tr>\n",
       "      <th>4</th>\n",
       "      <td>4</td>\n",
       "      <td>Marathwada</td>\n",
       "      <td>Aurangabad</td>\n",
       "      <td>Phulambri</td>\n",
       "      <td>2018</td>\n",
       "    </tr>\n",
       "  </tbody>\n",
       "</table>\n",
       "</div>"
      ],
      "text/plain": [
       "   Unnamed: 0      Region    District     Taluka  Year\n",
       "0           0  Marathwada  Aurangabad  Khultabad  2017\n",
       "1           1  Marathwada  Aurangabad  Khultabad  2018\n",
       "2           2  Marathwada  Aurangabad  Khultabad  2019\n",
       "3           3  Marathwada  Aurangabad  Phulambri  2017\n",
       "4           4  Marathwada  Aurangabad  Phulambri  2018"
      ]
     },
     "execution_count": 4,
     "metadata": {},
     "output_type": "execute_result"
    }
   ],
   "source": [
    "ListOfTalukas.head()\n"
   ]
  },
  {
   "cell_type": "code",
   "execution_count": 5,
   "id": "be186464-d445-4b5c-8518-d49662af3d88",
   "metadata": {},
   "outputs": [
    {
     "data": {
      "text/html": [
       "<div>\n",
       "<style scoped>\n",
       "    .dataframe tbody tr th:only-of-type {\n",
       "        vertical-align: middle;\n",
       "    }\n",
       "\n",
       "    .dataframe tbody tr th {\n",
       "        vertical-align: top;\n",
       "    }\n",
       "\n",
       "    .dataframe thead th {\n",
       "        text-align: right;\n",
       "    }\n",
       "</style>\n",
       "<table border=\"1\" class=\"dataframe\">\n",
       "  <thead>\n",
       "    <tr style=\"text-align: right;\">\n",
       "      <th></th>\n",
       "      <th>Unnamed: 0</th>\n",
       "      <th>Region</th>\n",
       "      <th>District</th>\n",
       "      <th>Taluka</th>\n",
       "      <th>Year</th>\n",
       "    </tr>\n",
       "  </thead>\n",
       "  <tbody>\n",
       "    <tr>\n",
       "      <th>179</th>\n",
       "      <td>179</td>\n",
       "      <td>North Maharashtra</td>\n",
       "      <td>Ahmednagar</td>\n",
       "      <td>Parner</td>\n",
       "      <td>2018</td>\n",
       "    </tr>\n",
       "    <tr>\n",
       "      <th>180</th>\n",
       "      <td>180</td>\n",
       "      <td>North Maharashtra</td>\n",
       "      <td>Ahmednagar</td>\n",
       "      <td>Parner</td>\n",
       "      <td>2019</td>\n",
       "    </tr>\n",
       "    <tr>\n",
       "      <th>181</th>\n",
       "      <td>181</td>\n",
       "      <td>North Maharashtra</td>\n",
       "      <td>Ahmednagar</td>\n",
       "      <td>Karjat</td>\n",
       "      <td>2018</td>\n",
       "    </tr>\n",
       "    <tr>\n",
       "      <th>182</th>\n",
       "      <td>182</td>\n",
       "      <td>North Maharashtra</td>\n",
       "      <td>Ahmednagar</td>\n",
       "      <td>Karjat</td>\n",
       "      <td>2019</td>\n",
       "    </tr>\n",
       "    <tr>\n",
       "      <th>183</th>\n",
       "      <td>183</td>\n",
       "      <td>North Maharashtra</td>\n",
       "      <td>Ahmednagar</td>\n",
       "      <td>Sangamner</td>\n",
       "      <td>2019</td>\n",
       "    </tr>\n",
       "  </tbody>\n",
       "</table>\n",
       "</div>"
      ],
      "text/plain": [
       "     Unnamed: 0             Region    District     Taluka  Year\n",
       "179         179  North Maharashtra  Ahmednagar     Parner  2018\n",
       "180         180  North Maharashtra  Ahmednagar     Parner  2019\n",
       "181         181  North Maharashtra  Ahmednagar     Karjat  2018\n",
       "182         182  North Maharashtra  Ahmednagar     Karjat  2019\n",
       "183         183  North Maharashtra  Ahmednagar  Sangamner  2019"
      ]
     },
     "execution_count": 5,
     "metadata": {},
     "output_type": "execute_result"
    }
   ],
   "source": [
    "ListOfTalukas.tail()\n",
    "\n",
    "\n"
   ]
  },
  {
   "cell_type": "code",
   "execution_count": 6,
   "id": "e713f9a9-63c8-4197-98a2-67ad1da18f5d",
   "metadata": {},
   "outputs": [
    {
     "data": {
      "text/html": [
       "<div>\n",
       "<style scoped>\n",
       "    .dataframe tbody tr th:only-of-type {\n",
       "        vertical-align: middle;\n",
       "    }\n",
       "\n",
       "    .dataframe tbody tr th {\n",
       "        vertical-align: top;\n",
       "    }\n",
       "\n",
       "    .dataframe thead th {\n",
       "        text-align: right;\n",
       "    }\n",
       "</style>\n",
       "<table border=\"1\" class=\"dataframe\">\n",
       "  <thead>\n",
       "    <tr style=\"text-align: right;\">\n",
       "      <th></th>\n",
       "      <th>Sr. No.</th>\n",
       "      <th>Component</th>\n",
       "      <th>Maximum Marks</th>\n",
       "    </tr>\n",
       "  </thead>\n",
       "  <tbody>\n",
       "    <tr>\n",
       "      <th>0</th>\n",
       "      <td>1</td>\n",
       "      <td>Wastewater Management</td>\n",
       "      <td>5</td>\n",
       "    </tr>\n",
       "    <tr>\n",
       "      <th>1</th>\n",
       "      <td>2</td>\n",
       "      <td>Conservation of Trees</td>\n",
       "      <td>5</td>\n",
       "    </tr>\n",
       "    <tr>\n",
       "      <th>2</th>\n",
       "      <td>3</td>\n",
       "      <td>Soil and Water Conservation Structures Built T...</td>\n",
       "      <td>25</td>\n",
       "    </tr>\n",
       "    <tr>\n",
       "      <th>3</th>\n",
       "      <td>4</td>\n",
       "      <td>Soil and Water Conservation Structures Built U...</td>\n",
       "      <td>15</td>\n",
       "    </tr>\n",
       "    <tr>\n",
       "      <th>4</th>\n",
       "      <td>5</td>\n",
       "      <td>Adequate Weightage to Area Treatment and Ridge...</td>\n",
       "      <td>10</td>\n",
       "    </tr>\n",
       "  </tbody>\n",
       "</table>\n",
       "</div>"
      ],
      "text/plain": [
       "   Sr. No.                                          Component  Maximum Marks\n",
       "0        1                              Wastewater Management              5\n",
       "1        2                              Conservation of Trees              5\n",
       "2        3  Soil and Water Conservation Structures Built T...             25\n",
       "3        4  Soil and Water Conservation Structures Built U...             15\n",
       "4        5  Adequate Weightage to Area Treatment and Ridge...             10"
      ]
     },
     "execution_count": 6,
     "metadata": {},
     "output_type": "execute_result"
    }
   ],
   "source": [
    "MarkingSystem.head()"
   ]
  },
  {
   "cell_type": "code",
   "execution_count": 7,
   "id": "d7a0ff83-90ab-461c-bc46-f3505a00c8ac",
   "metadata": {},
   "outputs": [
    {
     "data": {
      "text/html": [
       "<div>\n",
       "<style scoped>\n",
       "    .dataframe tbody tr th:only-of-type {\n",
       "        vertical-align: middle;\n",
       "    }\n",
       "\n",
       "    .dataframe tbody tr th {\n",
       "        vertical-align: top;\n",
       "    }\n",
       "\n",
       "    .dataframe thead th {\n",
       "        text-align: right;\n",
       "    }\n",
       "</style>\n",
       "<table border=\"1\" class=\"dataframe\">\n",
       "  <thead>\n",
       "    <tr style=\"text-align: right;\">\n",
       "      <th></th>\n",
       "      <th>Sr. No.</th>\n",
       "      <th>Component</th>\n",
       "      <th>Maximum Marks</th>\n",
       "    </tr>\n",
       "  </thead>\n",
       "  <tbody>\n",
       "    <tr>\n",
       "      <th>6</th>\n",
       "      <td>7</td>\n",
       "      <td>Soil Testing</td>\n",
       "      <td>5</td>\n",
       "    </tr>\n",
       "    <tr>\n",
       "      <th>7</th>\n",
       "      <td>8</td>\n",
       "      <td>Farms Free of Crop Burning</td>\n",
       "      <td>5</td>\n",
       "    </tr>\n",
       "    <tr>\n",
       "      <th>8</th>\n",
       "      <td>9</td>\n",
       "      <td>Water Saving Techniques</td>\n",
       "      <td>5</td>\n",
       "    </tr>\n",
       "    <tr>\n",
       "      <th>9</th>\n",
       "      <td>10</td>\n",
       "      <td>Water Budgeting</td>\n",
       "      <td>10</td>\n",
       "    </tr>\n",
       "    <tr>\n",
       "      <th>10</th>\n",
       "      <td>11</td>\n",
       "      <td>Repair of Existing Structures/Innovative Initi...</td>\n",
       "      <td>5</td>\n",
       "    </tr>\n",
       "  </tbody>\n",
       "</table>\n",
       "</div>"
      ],
      "text/plain": [
       "    Sr. No.                                          Component  Maximum Marks\n",
       "6         7                                       Soil Testing              5\n",
       "7         8                         Farms Free of Crop Burning              5\n",
       "8         9                            Water Saving Techniques              5\n",
       "9        10                                    Water Budgeting             10\n",
       "10       11  Repair of Existing Structures/Innovative Initi...              5"
      ]
     },
     "execution_count": 7,
     "metadata": {},
     "output_type": "execute_result"
    }
   ],
   "source": [
    "MarkingSystem.tail()"
   ]
  },
  {
   "cell_type": "code",
   "execution_count": 8,
   "id": "068290ad-aeb0-40ae-9519-ad7e1319a6ce",
   "metadata": {},
   "outputs": [
    {
     "data": {
      "text/html": [
       "<div>\n",
       "<style scoped>\n",
       "    .dataframe tbody tr th:only-of-type {\n",
       "        vertical-align: middle;\n",
       "    }\n",
       "\n",
       "    .dataframe tbody tr th {\n",
       "        vertical-align: top;\n",
       "    }\n",
       "\n",
       "    .dataframe thead th {\n",
       "        text-align: right;\n",
       "    }\n",
       "</style>\n",
       "<table border=\"1\" class=\"dataframe\">\n",
       "  <thead>\n",
       "    <tr style=\"text-align: right;\">\n",
       "      <th></th>\n",
       "      <th>District</th>\n",
       "      <th>Taluka</th>\n",
       "      <th>Village</th>\n",
       "      <th>Rank</th>\n",
       "      <th>Year</th>\n",
       "    </tr>\n",
       "  </thead>\n",
       "  <tbody>\n",
       "    <tr>\n",
       "      <th>0</th>\n",
       "      <td>Satara</td>\n",
       "      <td>Koregaon</td>\n",
       "      <td>Velu</td>\n",
       "      <td>1</td>\n",
       "      <td>2016</td>\n",
       "    </tr>\n",
       "    <tr>\n",
       "      <th>1</th>\n",
       "      <td>Beed</td>\n",
       "      <td>Ambejogai</td>\n",
       "      <td>Khaparton</td>\n",
       "      <td>2</td>\n",
       "      <td>2016</td>\n",
       "    </tr>\n",
       "    <tr>\n",
       "      <th>2</th>\n",
       "      <td>Satara</td>\n",
       "      <td>Koregaon</td>\n",
       "      <td>Jaigaon</td>\n",
       "      <td>2</td>\n",
       "      <td>2016</td>\n",
       "    </tr>\n",
       "    <tr>\n",
       "      <th>3</th>\n",
       "      <td>Beed</td>\n",
       "      <td>Ambejogai</td>\n",
       "      <td>Raditanda</td>\n",
       "      <td>3</td>\n",
       "      <td>2016</td>\n",
       "    </tr>\n",
       "    <tr>\n",
       "      <th>4</th>\n",
       "      <td>Amravati</td>\n",
       "      <td>Warud</td>\n",
       "      <td>Wathoda</td>\n",
       "      <td>3</td>\n",
       "      <td>2016</td>\n",
       "    </tr>\n",
       "  </tbody>\n",
       "</table>\n",
       "</div>"
      ],
      "text/plain": [
       "   District     Taluka    Village  Rank  Year\n",
       "0    Satara   Koregaon       Velu     1  2016\n",
       "1      Beed  Ambejogai  Khaparton     2  2016\n",
       "2    Satara   Koregaon    Jaigaon     2  2016\n",
       "3      Beed  Ambejogai  Raditanda     3  2016\n",
       "4  Amravati      Warud    Wathoda     3  2016"
      ]
     },
     "execution_count": 8,
     "metadata": {},
     "output_type": "execute_result"
    }
   ],
   "source": [
    "StateLevelWinners.head()"
   ]
  },
  {
   "cell_type": "code",
   "execution_count": 9,
   "id": "eccdf6b8-8f71-4883-9584-2d58722cef41",
   "metadata": {},
   "outputs": [
    {
     "data": {
      "text/html": [
       "<div>\n",
       "<style scoped>\n",
       "    .dataframe tbody tr th:only-of-type {\n",
       "        vertical-align: middle;\n",
       "    }\n",
       "\n",
       "    .dataframe tbody tr th {\n",
       "        vertical-align: top;\n",
       "    }\n",
       "\n",
       "    .dataframe thead th {\n",
       "        text-align: right;\n",
       "    }\n",
       "</style>\n",
       "<table border=\"1\" class=\"dataframe\">\n",
       "  <thead>\n",
       "    <tr style=\"text-align: right;\">\n",
       "      <th></th>\n",
       "      <th>District</th>\n",
       "      <th>Taluka</th>\n",
       "      <th>Village</th>\n",
       "      <th>Rank</th>\n",
       "      <th>Year</th>\n",
       "    </tr>\n",
       "  </thead>\n",
       "  <tbody>\n",
       "    <tr>\n",
       "      <th>16</th>\n",
       "      <td>Satara</td>\n",
       "      <td>Maan</td>\n",
       "      <td>Shindi Khurd</td>\n",
       "      <td>2</td>\n",
       "      <td>2019</td>\n",
       "    </tr>\n",
       "    <tr>\n",
       "      <th>17</th>\n",
       "      <td>Ahmadnagar</td>\n",
       "      <td>Parner</td>\n",
       "      <td>Pimpri Jalsen</td>\n",
       "      <td>2</td>\n",
       "      <td>2019</td>\n",
       "    </tr>\n",
       "    <tr>\n",
       "      <th>18</th>\n",
       "      <td>Washim</td>\n",
       "      <td>Mangrulpir</td>\n",
       "      <td>Borvha Budruk</td>\n",
       "      <td>3</td>\n",
       "      <td>2019</td>\n",
       "    </tr>\n",
       "    <tr>\n",
       "      <th>19</th>\n",
       "      <td>Beed</td>\n",
       "      <td>Beed</td>\n",
       "      <td>Devryachiwadi</td>\n",
       "      <td>3</td>\n",
       "      <td>2019</td>\n",
       "    </tr>\n",
       "    <tr>\n",
       "      <th>20</th>\n",
       "      <td>Jalgaon</td>\n",
       "      <td>Amalner</td>\n",
       "      <td>Anore</td>\n",
       "      <td>3</td>\n",
       "      <td>2019</td>\n",
       "    </tr>\n",
       "  </tbody>\n",
       "</table>\n",
       "</div>"
      ],
      "text/plain": [
       "      District      Taluka        Village  Rank  Year\n",
       "16      Satara        Maan   Shindi Khurd     2  2019\n",
       "17  Ahmadnagar      Parner  Pimpri Jalsen     2  2019\n",
       "18      Washim  Mangrulpir  Borvha Budruk     3  2019\n",
       "19        Beed        Beed  Devryachiwadi     3  2019\n",
       "20     Jalgaon     Amalner          Anore     3  2019"
      ]
     },
     "execution_count": 9,
     "metadata": {},
     "output_type": "execute_result"
    }
   ],
   "source": [
    "StateLevelWinners.tail()"
   ]
  },
  {
   "cell_type": "code",
   "execution_count": 10,
   "id": "c8cb668d-7cbc-4896-960a-6f70a75b5aa4",
   "metadata": {},
   "outputs": [
    {
     "data": {
      "text/html": [
       "<div>\n",
       "<style scoped>\n",
       "    .dataframe tbody tr th:only-of-type {\n",
       "        vertical-align: middle;\n",
       "    }\n",
       "\n",
       "    .dataframe tbody tr th {\n",
       "        vertical-align: top;\n",
       "    }\n",
       "\n",
       "    .dataframe thead th {\n",
       "        text-align: right;\n",
       "    }\n",
       "</style>\n",
       "<table border=\"1\" class=\"dataframe\">\n",
       "  <thead>\n",
       "    <tr style=\"text-align: right;\">\n",
       "      <th></th>\n",
       "      <th>Sr. No.</th>\n",
       "      <th>District</th>\n",
       "      <th>Taluka</th>\n",
       "      <th>Village Name</th>\n",
       "    </tr>\n",
       "  </thead>\n",
       "  <tbody>\n",
       "    <tr>\n",
       "      <th>0</th>\n",
       "      <td>1</td>\n",
       "      <td>Ahmednagar</td>\n",
       "      <td>Ahmednagar</td>\n",
       "      <td>Sonewadi Chaas</td>\n",
       "    </tr>\n",
       "    <tr>\n",
       "      <th>1</th>\n",
       "      <td>2</td>\n",
       "      <td>Ahmednagar</td>\n",
       "      <td>Ahmednagar</td>\n",
       "      <td>Sarola Kasar</td>\n",
       "    </tr>\n",
       "    <tr>\n",
       "      <th>2</th>\n",
       "      <td>3</td>\n",
       "      <td>Ahmednagar</td>\n",
       "      <td>Ahmednagar</td>\n",
       "      <td>Dongargan</td>\n",
       "    </tr>\n",
       "    <tr>\n",
       "      <th>3</th>\n",
       "      <td>4</td>\n",
       "      <td>Ahmednagar</td>\n",
       "      <td>Ahmednagar</td>\n",
       "      <td>Ranjani</td>\n",
       "    </tr>\n",
       "    <tr>\n",
       "      <th>4</th>\n",
       "      <td>5</td>\n",
       "      <td>Ahmednagar</td>\n",
       "      <td>Karjat</td>\n",
       "      <td>Pategaon</td>\n",
       "    </tr>\n",
       "  </tbody>\n",
       "</table>\n",
       "</div>"
      ],
      "text/plain": [
       "   Sr. No.    District      Taluka    Village Name\n",
       "0        1  Ahmednagar  Ahmednagar  Sonewadi Chaas\n",
       "1        2  Ahmednagar  Ahmednagar    Sarola Kasar\n",
       "2        3  Ahmednagar  Ahmednagar       Dongargan\n",
       "3        4  Ahmednagar  Ahmednagar         Ranjani\n",
       "4        5  Ahmednagar      Karjat        Pategaon"
      ]
     },
     "execution_count": 10,
     "metadata": {},
     "output_type": "execute_result"
    }
   ],
   "source": [
    "wc.head()"
   ]
  },
  {
   "cell_type": "code",
   "execution_count": 11,
   "id": "0f45b375-38c5-4c1c-83a8-c90b05dd2096",
   "metadata": {},
   "outputs": [
    {
     "data": {
      "text/html": [
       "<div>\n",
       "<style scoped>\n",
       "    .dataframe tbody tr th:only-of-type {\n",
       "        vertical-align: middle;\n",
       "    }\n",
       "\n",
       "    .dataframe tbody tr th {\n",
       "        vertical-align: top;\n",
       "    }\n",
       "\n",
       "    .dataframe thead th {\n",
       "        text-align: right;\n",
       "    }\n",
       "</style>\n",
       "<table border=\"1\" class=\"dataframe\">\n",
       "  <thead>\n",
       "    <tr style=\"text-align: right;\">\n",
       "      <th></th>\n",
       "      <th>Sr. No.</th>\n",
       "      <th>District</th>\n",
       "      <th>Taluka</th>\n",
       "      <th>Village Name</th>\n",
       "    </tr>\n",
       "  </thead>\n",
       "  <tbody>\n",
       "    <tr>\n",
       "      <th>327</th>\n",
       "      <td>328</td>\n",
       "      <td>Yavatmal</td>\n",
       "      <td>Yavatmal</td>\n",
       "      <td>Ratchandana</td>\n",
       "    </tr>\n",
       "    <tr>\n",
       "      <th>328</th>\n",
       "      <td>329</td>\n",
       "      <td>Yavatmal</td>\n",
       "      <td>Yavatmal</td>\n",
       "      <td>Lasina</td>\n",
       "    </tr>\n",
       "    <tr>\n",
       "      <th>329</th>\n",
       "      <td>330</td>\n",
       "      <td>Yavatmal</td>\n",
       "      <td>Yavatmal</td>\n",
       "      <td>Ramnagar</td>\n",
       "    </tr>\n",
       "    <tr>\n",
       "      <th>330</th>\n",
       "      <td>331</td>\n",
       "      <td>Yavatmal</td>\n",
       "      <td>Yavatmal</td>\n",
       "      <td>Saikheda Kh</td>\n",
       "    </tr>\n",
       "    <tr>\n",
       "      <th>331</th>\n",
       "      <td>332</td>\n",
       "      <td>Yavatmal</td>\n",
       "      <td>Yavatmal</td>\n",
       "      <td>Dhanora</td>\n",
       "    </tr>\n",
       "  </tbody>\n",
       "</table>\n",
       "</div>"
      ],
      "text/plain": [
       "     Sr. No.  District    Taluka Village Name\n",
       "327      328  Yavatmal  Yavatmal  Ratchandana\n",
       "328      329  Yavatmal  Yavatmal       Lasina\n",
       "329      330  Yavatmal  Yavatmal     Ramnagar\n",
       "330      331  Yavatmal  Yavatmal  Saikheda Kh\n",
       "331      332  Yavatmal  Yavatmal      Dhanora"
      ]
     },
     "execution_count": 11,
     "metadata": {},
     "output_type": "execute_result"
    }
   ],
   "source": [
    "wc.tail()"
   ]
  },
  {
   "cell_type": "code",
   "execution_count": 12,
   "id": "d0bf6814-0fc3-4b8e-9681-346e6ab1e99f",
   "metadata": {},
   "outputs": [
    {
     "name": "stdout",
     "output_type": "stream",
     "text": [
      "<class 'pandas.core.frame.DataFrame'>\n",
      "RangeIndex: 184 entries, 0 to 183\n",
      "Data columns (total 5 columns):\n",
      " #   Column      Non-Null Count  Dtype \n",
      "---  ------      --------------  ----- \n",
      " 0   Unnamed: 0  184 non-null    int64 \n",
      " 1   Region      184 non-null    object\n",
      " 2   District    184 non-null    object\n",
      " 3   Taluka      184 non-null    object\n",
      " 4   Year        184 non-null    int64 \n",
      "dtypes: int64(2), object(3)\n",
      "memory usage: 7.3+ KB\n"
     ]
    }
   ],
   "source": [
    "ListOfTalukas.info()"
   ]
  },
  {
   "cell_type": "code",
   "execution_count": 13,
   "id": "ea208f24-4c80-40ac-ab3b-12dd0fcde13e",
   "metadata": {},
   "outputs": [
    {
     "name": "stdout",
     "output_type": "stream",
     "text": [
      "<class 'pandas.core.frame.DataFrame'>\n",
      "RangeIndex: 11 entries, 0 to 10\n",
      "Data columns (total 3 columns):\n",
      " #   Column         Non-Null Count  Dtype \n",
      "---  ------         --------------  ----- \n",
      " 0   Sr. No.        11 non-null     int64 \n",
      " 1   Component      11 non-null     object\n",
      " 2   Maximum Marks  11 non-null     int64 \n",
      "dtypes: int64(2), object(1)\n",
      "memory usage: 392.0+ bytes\n"
     ]
    }
   ],
   "source": [
    "MarkingSystem.info()"
   ]
  },
  {
   "cell_type": "code",
   "execution_count": 14,
   "id": "552326f7-811f-4c37-bb1f-bb67a47428fd",
   "metadata": {},
   "outputs": [
    {
     "name": "stdout",
     "output_type": "stream",
     "text": [
      "<class 'pandas.core.frame.DataFrame'>\n",
      "RangeIndex: 21 entries, 0 to 20\n",
      "Data columns (total 5 columns):\n",
      " #   Column    Non-Null Count  Dtype \n",
      "---  ------    --------------  ----- \n",
      " 0   District  21 non-null     object\n",
      " 1   Taluka    21 non-null     object\n",
      " 2   Village   21 non-null     object\n",
      " 3   Rank      21 non-null     int64 \n",
      " 4   Year      21 non-null     int64 \n",
      "dtypes: int64(2), object(3)\n",
      "memory usage: 968.0+ bytes\n"
     ]
    }
   ],
   "source": [
    "StateLevelWinners.info()"
   ]
  },
  {
   "cell_type": "code",
   "execution_count": 15,
   "id": "d7b34807-b4f6-4d03-b34f-dd6ea67bbc78",
   "metadata": {},
   "outputs": [
    {
     "name": "stdout",
     "output_type": "stream",
     "text": [
      "<class 'pandas.core.frame.DataFrame'>\n",
      "RangeIndex: 332 entries, 0 to 331\n",
      "Data columns (total 4 columns):\n",
      " #   Column        Non-Null Count  Dtype \n",
      "---  ------        --------------  ----- \n",
      " 0   Sr. No.       332 non-null    int64 \n",
      " 1   District      332 non-null    object\n",
      " 2   Taluka        332 non-null    object\n",
      " 3   Village Name  332 non-null    object\n",
      "dtypes: int64(1), object(3)\n",
      "memory usage: 10.5+ KB\n"
     ]
    }
   ],
   "source": [
    "wc.info()"
   ]
  },
  {
   "cell_type": "markdown",
   "id": "7347ad38-323b-420c-9d84-7fc29f235d51",
   "metadata": {},
   "source": [
    "# EDA"
   ]
  },
  {
   "cell_type": "markdown",
   "id": "09180101-4c69-4997-b7e9-cf66afaf5d61",
   "metadata": {},
   "source": [
    "# List Of all Talukas participated "
   ]
  },
  {
   "cell_type": "code",
   "execution_count": 16,
   "id": "75de6e52-305e-4eb9-b43b-fc3e5dd3a1d0",
   "metadata": {},
   "outputs": [
    {
     "data": {
      "image/png": "[encoded data removed]",
      "text/plain": [
       "<Figure size 864x360 with 1 Axes>"
      ]
     },
     "metadata": {},
     "output_type": "display_data"
    }
   ],
   "source": [
    "plt.figure(figsize=(12,5))\n",
    "plt.pie(ListOfTalukas['Region'].value_counts(),\n",
    "        labels=ListOfTalukas['Region'].value_counts().index,autopct='%1.2f%%');"
   ]
  },
  {
   "cell_type": "markdown",
   "id": "c7b0fd52-851e-40a4-acd3-ad20d4df5fae",
   "metadata": {},
   "source": [
    "Vidarbha has 33.15% contribution for waterfoundation in all Region"
   ]
  },
  {
   "cell_type": "markdown",
   "id": "e0092ee4-c175-4309-9ee3-2ef237efa3e5",
   "metadata": {},
   "source": [
    "# Variation Of Year"
   ]
  },
  {
   "cell_type": "code",
   "execution_count": 17,
   "id": "da43aeaf-0438-4da2-a65f-84a496a6d5d8",
   "metadata": {},
   "outputs": [
    {
     "data": {
      "image/png": "[encoded data removed]",
      "text/plain": [
       "<Figure size 864x360 with 1 Axes>"
      ]
     },
     "metadata": {
      "needs_background": "light"
     },
     "output_type": "display_data"
    }
   ],
   "source": [
    "plt.figure(figsize=(12,5))\n",
    "sns.countplot(x=ListOfTalukas['Year'],order=ListOfTalukas['Year'].value_counts().index.sort_values())\n",
    "plt.xlabel('Year',fontsize=10)\n",
    "plt.ylabel('No.of Villages',fontsize=9)\n",
    "plt.title(' No.of Villages vs Year ',fontsize=16);"
   ]
  },
  {
   "cell_type": "markdown",
   "id": "4eebd13d-aafc-42c1-b6e2-4e62d21af431",
   "metadata": {},
   "source": [
    "75 Villages in 2019 of all Villages"
   ]
  },
  {
   "cell_type": "markdown",
   "id": "f3cb61f5-4951-4719-952a-758cf7ad8586",
   "metadata": {},
   "source": [
    "# Year-To-Year Variation of All Region"
   ]
  },
  {
   "cell_type": "code",
   "execution_count": 18,
   "id": "4b2e97e0-8102-4816-8c9c-acd3f8504b82",
   "metadata": {},
   "outputs": [
    {
     "data": {
      "image/png": "[encoded data removed]",
      "text/plain": [
       "<Figure size 720x360 with 1 Axes>"
      ]
     },
     "metadata": {
      "needs_background": "light"
     },
     "output_type": "display_data"
    }
   ],
   "source": [
    "plt.figure(figsize=[10,5])\n",
    "new_districtwise = ListOfTalukas.drop(columns='Taluka').drop_duplicates()\n",
    "plot = sns.countplot(x='Region',hue='Year', data=new_districtwise);"
   ]
  },
  {
   "cell_type": "markdown",
   "id": "aef85527-c78e-4f3c-ada5-4f34122a23a1",
   "metadata": {},
   "source": [
    "After 2017,increased contribution in all region"
   ]
  },
  {
   "cell_type": "markdown",
   "id": "97c06b2f-e43d-4dd1-ba2f-85fa393eb5bc",
   "metadata": {},
   "source": [
    " # Villages Supported By Donations Water-Cup in 2019"
   ]
  },
  {
   "cell_type": "code",
   "execution_count": 19,
   "id": "df7c6278-c794-4864-822a-33e7384c340d",
   "metadata": {},
   "outputs": [
    {
     "data": {
      "image/png": "[encoded data removed]",
      "text/plain": [
       "<Figure size 1584x360 with 1 Axes>"
      ]
     },
     "metadata": {
      "needs_background": "light"
     },
     "output_type": "display_data"
    }
   ],
   "source": [
    "plt.figure(figsize=(22,5))\n",
    "sns.countplot(x=wc['District'],order=wc['District'].value_counts().index.sort_values())\n",
    "plt.xlabel('District',fontsize=10)\n",
    "plt.ylabel('Village Name',fontsize=9)\n",
    "plt.title(' District vs Village Name ',fontsize=30);"
   ]
  },
  {
   "cell_type": "markdown",
   "id": "e8eb8ddf-3c14-4f5d-9e9a-6ac4d52e8af5",
   "metadata": {},
   "source": [
    "27 Villages of Beed contribution in all districts"
   ]
  },
  {
   "cell_type": "markdown",
   "id": "92a21615-6d25-4da8-a1d8-4d379ff0114e",
   "metadata": {},
   "source": [
    "# State Level Winners fo water-cup"
   ]
  },
  {
   "cell_type": "code",
   "execution_count": 20,
   "id": "896ca2c4-1dc7-4e3e-9751-171f72a78592",
   "metadata": {},
   "outputs": [
    {
     "data": {
      "image/png": "[encoded data removed]",
      "text/plain": [
       "<Figure size 864x360 with 1 Axes>"
      ]
     },
     "metadata": {
      "needs_background": "light"
     },
     "output_type": "display_data"
    }
   ],
   "source": [
    "plt.figure(figsize=(12,5))\n",
    "sns.countplot(y=StateLevelWinners['District'],order=StateLevelWinners['District'].value_counts().index[0:11],palette='deep')\n",
    "plt.xlabel('count',fontsize=12)\n",
    "plt.ylabel('District',fontsize=12)\n",
    "plt.title('count vs District',fontsize=16);"
   ]
  },
  {
   "cell_type": "markdown",
   "id": "9f5580d5-19c6-4b5c-b50a-357b55e6ea54",
   "metadata": {},
   "source": [
    "7 Award Win by Satara of all districts"
   ]
  },
  {
   "cell_type": "markdown",
   "id": "8c41d9cd-7acd-4109-9de6-df2f330b37ad",
   "metadata": {},
   "source": [
    "# Guidelines of Marking System"
   ]
  },
  {
   "cell_type": "code",
   "execution_count": 21,
   "id": "65581c6b-1df0-428c-84f3-aa07237554a7",
   "metadata": {},
   "outputs": [
    {
     "data": {
      "image/png": "[encoded data removed]",
      "text/plain": [
       "<Figure size 864x864 with 1 Axes>"
      ]
     },
     "metadata": {},
     "output_type": "display_data"
    }
   ],
   "source": [
    "fig, ax = plt.subplots(figsize=(12,12))\n",
    "MarkingSystem.set_index('Component').plot.pie(y='Maximum Marks',legend=False, ax=ax,autopct='%1.2f%%');"
   ]
  },
  {
   "cell_type": "markdown",
   "id": "d954d0b9-a09f-4faf-ac4b-36e7b3bfe9e9",
   "metadata": {},
   "source": [
    "25% of Marking System in Soil and Water conservation structures built through Shramadan of all Components"
   ]
  }
 ],
 "metadata": {
  "kernelspec": {
   "display_name": "Python 3 (ipykernel)",
   "language": "python",
   "name": "python3"
  },
  "language_info": {
   "codemirror_mode": {
    "name": "ipython",
    "version": 3
   },
   "file_extension": ".py",
   "mimetype": "text/x-python",
   "name": "python",
   "nbconvert_exporter": "python",
   "pygments_lexer": "ipython3",
   "version": "3.9.7"
  }
 },
 "nbformat": 4,
 "nbformat_minor": 5
}
